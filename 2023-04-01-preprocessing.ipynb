{
 "cells": [
  {
   "cell_type": "code",
   "execution_count": null,
   "id": "aaf9217d",
   "metadata": {},
   "outputs": [],
   "source": [
    "import glob\n",
    "import json\n",
    "import shutil\n",
    "import os\n",
    "import cv2\n",
    "import random\n",
    "import albumentations as A"
   ]
  },
  {
   "cell_type": "code",
   "execution_count": null,
   "id": "ff10c02c",
   "metadata": {},
   "outputs": [],
   "source": [
    "# AI hub dataset"
   ]
  },
  {
   "cell_type": "code",
   "execution_count": null,
   "id": "47307578",
   "metadata": {},
   "outputs": [],
   "source": [
    "json_list = glob.glob('./data/Training_라벨링데이터/**/*.json',recursive=True)"
   ]
  },
  {
   "cell_type": "code",
   "execution_count": null,
   "id": "ce3f3209",
   "metadata": {},
   "outputs": [],
   "source": [
    "category = ['가구류','나무','도기류','의류','자전거','전자제품','형광등']\n",
    "cat_json_list = [[] for i in range(len(category))]"
   ]
  },
  {
   "cell_type": "code",
   "execution_count": null,
   "id": "570680b4",
   "metadata": {},
   "outputs": [],
   "source": [
    "label_to_path = './yolov8/data/labels/'"
   ]
  },
  {
   "cell_type": "code",
   "execution_count": null,
   "id": "a01a5c8e",
   "metadata": {},
   "outputs": [],
   "source": [
    "#json -> yolo text file\n",
    "\n",
    "def json_to_txt(label_list,to_path) : \n",
    "\n",
    "    for file_path in label_list :\n",
    "\n",
    "        json_name = file_path.split('/')[-1]\n",
    "        txt_name = json_name[:-5]+'.txt'\n",
    "        cat_name = file_path.split('/')[4]\n",
    "\n",
    "        with open(file_path,encoding='UTF8') as f:\n",
    "            data = json.load(f)\n",
    "\n",
    "            cat_num = category.index(cat_name)\n",
    "            imgw = int(data['RESOLUTION'][:4])\n",
    "            imgh = int(data['RESOLUTION'][-4:])\n",
    "\n",
    "            yolo_format_list = []\n",
    "\n",
    "            for dt in data['Bounding'] :\n",
    "                draw_type = dt['Drawing']\n",
    "\n",
    "                if draw_type == 'BOX' :\n",
    "                    \n",
    "                    cat_json_list[cat_num].append(file_path)\n",
    "\n",
    "                    xcenter = int((int(dt['x1'])+int(dt['x2']))/2)/imgw\n",
    "                    ycenter = int((int(dt['y1'])+int(dt['y2']))/2)/imgh\n",
    "                    boxw = int((int(dt['x2'])-int(dt['x1'])))/imgw\n",
    "                    boxh = int((int(dt['y2'])-int(dt['y1'])))/imgh\n",
    "\n",
    "                    yolo_format = [cat_num,xcenter,ycenter,boxw,boxh]\n",
    "                    yolo_format_list.append(yolo_format)\n",
    "\n",
    "            with open(to_path+txt_name,'w',newline='') as fw :\n",
    "                write = csv.writer(fw,delimiter=' ')\n",
    "                write.writerows(yolo_format_list)\n",
    "\n"
   ]
  },
  {
   "cell_type": "code",
   "execution_count": null,
   "id": "46b4f872",
   "metadata": {},
   "outputs": [],
   "source": [
    "json_to_txt(json_list,label_to_path)"
   ]
  },
  {
   "cell_type": "code",
   "execution_count": null,
   "id": "6367e423",
   "metadata": {},
   "outputs": [],
   "source": [
    "#sampling\n",
    "\n",
    "def sampling (li,num) :\n",
    "    if len(li) > num :\n",
    "        sample_num = num\n",
    "    else:\n",
    "        sample_num = len(li)\n",
    "        \n",
    "    sample_li = random.sample(li,sample_num)\n",
    "    return sample_li"
   ]
  },
  {
   "cell_type": "code",
   "execution_count": null,
   "id": "c750823d",
   "metadata": {},
   "outputs": [],
   "source": [
    "#sampling 100 from each class\n",
    "sample_num = [100 for i in range(len(cat_json_list))]\n",
    "sample_json_list = list(map(sampling,cat_json_list,sample_num))"
   ]
  },
  {
   "cell_type": "code",
   "execution_count": null,
   "id": "516082d2",
   "metadata": {},
   "outputs": [],
   "source": [
    "img_to_path = './yolov8/data/images'"
   ]
  },
  {
   "cell_type": "code",
   "execution_count": null,
   "id": "3a6a30d8",
   "metadata": {},
   "outputs": [],
   "source": [
    "# resize img\n",
    "def resize_img(img_path,width=800) :\n",
    "    img = cv2.imread(img_path)\n",
    "    h,w = img.shape[:2]\n",
    "    ratio = w/h\n",
    "    new_h = int(width/ratio)\n",
    "    img = cv2.resize(img,(width,new_h),interpolation=cv2.INTER_AREA)\n",
    "    return img"
   ]
  },
  {
   "cell_type": "code",
   "execution_count": null,
   "id": "5f120558",
   "metadata": {},
   "outputs": [],
   "source": [
    "def set_img(target_list, to_path) :\n",
    "    for target_file in target_list:\n",
    "        file_name = target_file.split('/')[-1]\n",
    "        img_name = file_name.replace('txt','jpg')\n",
    "        img_path = './data/images/'\n",
    "        \n",
    "        resized = resize_img(img_path+img_name)\n",
    "        cv2.imwrite(to_path+img_name,resized)"
   ]
  },
  {
   "cell_type": "code",
   "execution_count": null,
   "id": "15a26be0",
   "metadata": {},
   "outputs": [],
   "source": [
    "set_img(sample_json_list,img_to_path)"
   ]
  },
  {
   "cell_type": "code",
   "execution_count": null,
   "id": "ad36899d",
   "metadata": {},
   "outputs": [],
   "source": [
    "#augmentation (albumentation)\n",
    "\n",
    "def aug_img (label_list, target_number,datatype) :\n",
    "    transform = A.Compose([\n",
    "    A.ColorJitter(brightness=0.3, contrast=0.3, saturation=0.3, hue=0.3,p=1),])\n",
    "    \n",
    "    k= 0\n",
    "    \n",
    "    \n",
    "    for label_files in label_list :\n",
    "        \n",
    "        org_len = len(label_files)\n",
    "        i = 0\n",
    "        \n",
    "        while i + org_len < target_number :\n",
    "            print(k)\n",
    "            target_file = random.choice(label_files).replace('\\\\','/')\n",
    "            target_file_name = target_file.split('/')[-1].replace('.txt','')\n",
    "            img_name = target_file_name+'.jpg'\n",
    "            img_target = img_from+img_name\n",
    "            print(target_file)\n",
    "            print(img_target)\n",
    "            \n",
    "            img = cv2.imread(img_target)\n",
    "            transformed_image = transform(image=img)['image']\n",
    "            \n",
    "            if not os.path.exists(img_to+datatype+'_aug/') :\n",
    "                os.makedirs(img_to+datatype+'_aug/')\n",
    "            \n",
    "            print(img_to+datatype+'_aug/'+target_file_name+'_aug_'+str(i)+'.jpg')\n",
    "            cv2.imwrite(img_to+datatype+'_aug/'+target_file_name+'_aug_'+str(i)+'.jpg', transformed_image)\n",
    "            \n",
    "           \n",
    "        \n",
    "            #copy label\n",
    "        \n",
    "            if not os.path.exists(label_to+datatype+'_aug/') :\n",
    "                os.makedirs(label_to+datatype+'_aug/')\n",
    "            \n",
    "            print(target_file,label_to+datatype+'_aug/'+target_file_name+'_aug_'+str(i)+'.txt')\n",
    "            shutil.copy(target_file,label_to+datatype+'_aug/'+target_file_name+'_aug_'+str(i)+'.txt')\n",
    "            \n",
    "            \n",
    "            i += 1\n",
    "            k += 1"
   ]
  },
  {
   "cell_type": "code",
   "execution_count": null,
   "id": "d8eb8b08",
   "metadata": {},
   "outputs": [],
   "source": [
    "aug_img(sample_json_list,160,'train')"
   ]
  },
  {
   "cell_type": "code",
   "execution_count": null,
   "id": "52169777",
   "metadata": {},
   "outputs": [],
   "source": [
    "#selectstar dataset"
   ]
  },
  {
   "cell_type": "code",
   "execution_count": null,
   "id": "43ecde9b",
   "metadata": {},
   "outputs": [],
   "source": [
    "ss_json_list = glob.glob('./data/reusable-trash-images/reusable-trash-images/selectstar-reusable-trash-json/*.json')"
   ]
  },
  {
   "cell_type": "code",
   "execution_count": null,
   "id": "672ef9f6",
   "metadata": {},
   "outputs": [],
   "source": [
    "ss_labels = []\n",
    "ss_shape_type = []\n",
    "ss_max_h = 0\n",
    "ss_min_h = 10000\n",
    "ss_max_w = 0\n",
    "ss_min_w = 10000"
   ]
  },
  {
   "cell_type": "code",
   "execution_count": null,
   "id": "82a5fdb4",
   "metadata": {},
   "outputs": [],
   "source": [
    "class_count = {}\n",
    "class_label_list = {}"
   ]
  },
  {
   "cell_type": "code",
   "execution_count": null,
   "id": "e9a93c90",
   "metadata": {},
   "outputs": [],
   "source": [
    "for idx,js in enumerate(ss_json_list):\n",
    "    print(idx,js)\n",
    "    with open(js,encoding='UTF8') as f:\n",
    "        data = json.load(f)\n",
    "\n",
    "        \n",
    "        #label 1 only\n",
    "        \n",
    "        if len(data['shapes']) > 1:\n",
    "            continue\n",
    "        \n",
    "        \n",
    "        \n",
    "        for dt in data['shapes'] :\n",
    "\n",
    "\n",
    "            img_label = dt['label']\n",
    "            [[x1,y1],[x2,y2]] = dt['points']\n",
    "            shape_type = dt['shape_type']\n",
    "\n",
    "            if img_label not in class_count :\n",
    "                class_count[img_label] = 1\n",
    "                class_label_list[img_label] = [js]\n",
    "            else:\n",
    "                class_count[img_label] +=1\n",
    "                class_label_list[img_label].append(js)\n",
    "\n",
    "            if shape_type not in ss_shape_type :\n",
    "                ss_shape_type.append(shape_type)\n",
    "\n",
    "        img_path = data['imagePath']\n",
    "        img_w = data['imageWidth']\n",
    "        img_h = data['imageHeight']\n",
    "\n",
    "\n",
    "        if img_w > ss_max_w :\n",
    "            ss_max_w = img_w\n",
    "\n",
    "        if img_w < ss_min_w :\n",
    "            ss_min_w = img_w\n",
    "\n",
    "        if img_h > ss_max_h :\n",
    "            ss_max_h = img_h\n",
    "\n",
    "        if img_h < ss_min_h:\n",
    "            ss_min_h = img_h\n"
   ]
  },
  {
   "cell_type": "code",
   "execution_count": null,
   "id": "201d6e10",
   "metadata": {},
   "outputs": [],
   "source": []
  },
  {
   "cell_type": "code",
   "execution_count": null,
   "id": "18dd23ab",
   "metadata": {},
   "outputs": [],
   "source": [
    "# image/label -> each class folder"
   ]
  },
  {
   "cell_type": "code",
   "execution_count": null,
   "id": "ce2755b3",
   "metadata": {},
   "outputs": [],
   "source": [
    "for key,value in class_label_list.items() :\n",
    "    for file in value :\n",
    "        json_name = file.split('/')[-1]\n",
    "        jpg_name = json_name.replace('json','jpg')\n",
    "        \n",
    "        label_to = 'g:/prj/data/ss/ss_labels/'+key+'/'\n",
    "        img_to = 'g:/prj/data/ss/ss_images/'+key+'/'\n",
    "        \n",
    "        if not os.path.exists(label_to) :\n",
    "            os.makedirs(label_to)\n",
    "            \n",
    "        if not os.path.exists(img_to) :\n",
    "            os.makedirs(img_to)\n",
    "            \n",
    "        shutil.copy(file,label_to+json_name)\n",
    "        shutil.copy('g:/prj/data/reusable-trash-images/reusable-trash-images/selectstar-reusable-trash-image/'+jpg_name,img_to+jpg_name)\n",
    "    "
   ]
  },
  {
   "cell_type": "code",
   "execution_count": null,
   "id": "76fc9997",
   "metadata": {},
   "outputs": [],
   "source": []
  },
  {
   "cell_type": "code",
   "execution_count": null,
   "id": "f5d65ee8",
   "metadata": {},
   "outputs": [],
   "source": [
    "# TACO datasets"
   ]
  },
  {
   "cell_type": "code",
   "execution_count": null,
   "id": "2cd6dd33",
   "metadata": {},
   "outputs": [],
   "source": [
    "taco_path = './data/taco/'\n",
    "taco_label_to = taco_path+'labels/'\n",
    "taco_img_to = taco_path+'images/'"
   ]
  },
  {
   "cell_type": "code",
   "execution_count": null,
   "id": "6979e9bf",
   "metadata": {},
   "outputs": [],
   "source": [
    "scat_map = {0:'0-2',1:'1-9',2:'2-17',3:'3-19',4:'4-27',5:'5-36',6:'6-43',7:'7-46'}"
   ]
  },
  {
   "cell_type": "code",
   "execution_count": null,
   "id": "71a5565f",
   "metadata": {},
   "outputs": [],
   "source": [
    "cat_map = {0:[52],1:[38,41],2:[57],3:[6,23,26],4:[14,15,16,17,18,19,20,30,32,33,34],5:[10,11,12],6:[5],7:[4,21,24,29,39,45,47,49,55]}"
   ]
  },
  {
   "cell_type": "code",
   "execution_count": null,
   "id": "07877b6b",
   "metadata": {},
   "outputs": [],
   "source": [
    "meta_df = pd.read_csv(taco_path+'meta_df.csv')"
   ]
  },
  {
   "cell_type": "code",
   "execution_count": null,
   "id": "edaf6ad2",
   "metadata": {},
   "outputs": [],
   "source": [
    "taco_img_list = glob.glob(taco_path+'images/**/*.jpg',recursive=True)"
   ]
  },
  {
   "cell_type": "code",
   "execution_count": null,
   "id": "17b5bf2b",
   "metadata": {},
   "outputs": [],
   "source": [
    "for i in range(4784) :\n",
    "    img_file = str(meta_df.iloc[i][3])\n",
    "    supercategory = str(meta_df.iloc[i][6])\n",
    "    cat_name = str(meta_df.iloc[i][5])\n",
    "    ann_id = str(meta_df.iloc[i][7])\n",
    "    cat_id = str(meta_df.iloc[i][4])\n",
    "    x1 = int(meta_df.iloc[i][8])\n",
    "    y1 = int(meta_df.iloc[i][9])\n",
    "    width = int(meta_df.iloc[i][10])\n",
    "    height = int(meta_df.iloc[i][11])\n",
    "    img_width = int(meta_df.iloc[i][1])\n",
    "    img_height = int(meta_df.iloc[i][2])\n",
    "    \n",
    "    xcenter = (x1+width/2)/img_width\n",
    "    ycenter = (y1+height/2)/img_height\n",
    "    boxw = width/img_width\n",
    "    boxh = height/img_height\n",
    "    \n",
    "    new_path = img_to+supercategory+'/'+cat_id+'-'+cat_name+'/'\n",
    "    \n",
    "    file_name = ann_id+'.jpg'\n",
    "    \n",
    "    \n",
    "       \n",
    "    # create label\n",
    "    \n",
    "    label_to = taco_path+'labels/'\n",
    "    \n",
    "    for j in range(8):\n",
    " \n",
    "        if int(cat_id) in cat_map[j] :\n",
    "            class_num = j\n",
    "            break\n",
    "        class_num = 99\n",
    "    \n",
    "    if class_num == 99 :\n",
    "        continue\n",
    "        \n",
    "    \n",
    "    class_num = scat_map[class_num].split('-')[-1]\n",
    "    \n",
    "    print('cat_name:',cat_name,'cat_id:',cat_id,'class_num:',class_num)\n",
    "\n",
    "    \n",
    "    yolo_format_list = []\n",
    "    \n",
    "    yolo_format = [class_num,xcenter,ycenter,boxw,boxh]\n",
    "    yolo_format_list.append(yolo_format)\n",
    "\n",
    "    \n",
    "    \n",
    "    if not os.path.exists(label_to):\n",
    "        os.makedirs(label_to)\n",
    "        \n",
    "\n",
    "    with open(label_to+ann_id+'.txt','w',newline='') as fw :\n",
    "        write = csv.writer(fw,delimiter=' ')\n",
    "        write.writerows(yolo_format_list)\n",
    "    \n",
    "    \n",
    "    \n",
    "     # copy image\n",
    "\n",
    "    if not os.path.exists(new_path):\n",
    "        os.makedirs(new_path)\n",
    "        \n",
    "\n",
    "    if img_width>800 :\n",
    "        \n",
    "\n",
    "\n",
    "        shutil.copy(data_from+img_file,new_path+file_name)\n",
    "    else : \n",
    "\n",
    "        cv2.imwrite(new_path+file_name,img_resize(data_from+img_file))\n",
    "    \n",
    " "
   ]
  }
 ],
 "metadata": {
  "kernelspec": {
   "display_name": "Python 3 (ipykernel)",
   "language": "python",
   "name": "python3"
  },
  "language_info": {
   "codemirror_mode": {
    "name": "ipython",
    "version": 3
   },
   "file_extension": ".py",
   "mimetype": "text/x-python",
   "name": "python",
   "nbconvert_exporter": "python",
   "pygments_lexer": "ipython3",
   "version": "3.7.16"
  }
 },
 "nbformat": 4,
 "nbformat_minor": 5
}
